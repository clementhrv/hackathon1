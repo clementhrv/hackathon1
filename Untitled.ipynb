{
 "cells": [
  {
   "cell_type": "code",
   "execution_count": 22,
   "id": "c0768049-8205-4dc0-b3e0-c93a369f54de",
   "metadata": {},
   "outputs": [
    {
     "name": "stderr",
     "output_type": "stream",
     "text": [
      "C:\\Users\\33673\\AppData\\Local\\Temp\\ipykernel_4568\\800773917.py:4: DtypeWarning: Columns (4,5) have mixed types. Specify dtype option on import or set low_memory=False.\n",
      "  df = pd.read_csv('toute_planetes.csv',skiprows=291)\n"
     ]
    }
   ],
   "source": [
    "import numpy as np\n",
    "import pandas as pd\n",
    "import matplotlib.pyplot as plt\n",
    "df = pd.read_csv('toute_planetes.csv',skiprows=291)\n",
    "columns1 = ['Planet Name','Host Name', 'Defaull Parameter Set', 'Number of Stars','Number of Planets','Discovery Method','Discovery Year','Solution Type'\n",
    "            ,'Controversial Flag','Planetary Parameter Reference','Orbital Period','Orbit Semi-Major Axis','Planet Radius [Earth Radius]','Planet Radius\n",
    "            [Jupiter Radius]','Planet Mass or Mass*sin(i) [Earth Mass]','Planet Mass or Mass*sin(i) [Jupiter Mass]','Planet Mass or Mass*sin(i) Provenance','Eccentricity',\n",
    "            'Insolation Flux','Equilibrium Temperature','Data Show Transit Timing Variations','Stellar Parameter Reference','Spectral Type','Stellar Effective Temperature','Stellar Radius ',\n",
    "'Stellar Mass','Stellar Metallicity','Stellar Metallicity Ratio','Stellar Surface Gravity']\n",
    "#df['eccentricity'] = 0.1>df['eccentricity']> 0.067"
   ]
  },
  {
   "cell_type": "code",
   "execution_count": null,
   "id": "ebc9db0e-8559-4cf2-97c5-bc4a0e427a28",
   "metadata": {},
   "outputs": [],
   "source": []
  }
 ],
 "metadata": {
  "kernelspec": {
   "display_name": "Python 3 (ipykernel)",
   "language": "python",
   "name": "python3"
  },
  "language_info": {
   "codemirror_mode": {
    "name": "ipython",
    "version": 3
   },
   "file_extension": ".py",
   "mimetype": "text/x-python",
   "name": "python",
   "nbconvert_exporter": "python",
   "pygments_lexer": "ipython3",
   "version": "3.11.4"
  }
 },
 "nbformat": 4,
 "nbformat_minor": 5
}
